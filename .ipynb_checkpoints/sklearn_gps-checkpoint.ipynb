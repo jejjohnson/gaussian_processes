{
 "cells": [
  {
   "cell_type": "markdown",
   "metadata": {},
   "source": [
    "# Gaussian Process"
   ]
  },
  {
   "cell_type": "code",
   "execution_count": 242,
   "metadata": {},
   "outputs": [
    {
     "name": "stdout",
     "output_type": "stream",
     "text": [
      "The autoreload extension is already loaded. To reload it, use:\n",
      "  %reload_ext autoreload\n"
     ]
    }
   ],
   "source": [
    "import numpy as np\n",
    "from sklearn.base import BaseEstimator, RegressorMixin, clone\n",
    "from sklearn.utils.validation import check_X_y, check_array, check_is_fitted\n",
    "import sys\n",
    "sys.path.insert(0,'/Users/eman/Documents/code_projects/kernellib/')\n",
    "\n",
    "# from kernellib.gp import GaussianProcessRegressor\n",
    "from kernellib.kernels import ARD, ConstantKernel as C, WhiteKernel\n",
    "from kernellib.gpr import GaussianProcessRegressor\n",
    "\n",
    "%load_ext autoreload\n",
    "%autoreload 2\n",
    "\n",
    "import matplotlib.pyplot as plt\n",
    "%matplotlib inline"
   ]
  },
  {
   "cell_type": "code",
   "execution_count": 243,
   "metadata": {},
   "outputs": [
    {
     "name": "stdout",
     "output_type": "stream",
     "text": [
      "(11, 1) (11,)\n"
     ]
    }
   ],
   "source": [
    "random_state = 123\n",
    "rng = np.random.RandomState(random_state)\n",
    "\n",
    "# Training data is 11 points in [0,1] inclusive regularly spaced# Traini \n",
    "x_train = np.linspace(0, 1, 11).reshape(-1, 1)\n",
    "# True function is sin(2*pi*x) with Gaussian noise\n",
    "y_train = np.sin(x_train * (2 * np.pi)) + rng.randn(x_train.shape[0], 1) * 0.25\n",
    "y_train = np.squeeze(y_train)\n",
    "x_test = np.linspace(0, 1, 51).reshape(-1, 1)\n",
    "print(x_train.shape, y_train.shape)"
   ]
  },
  {
   "cell_type": "code",
   "execution_count": 244,
   "metadata": {},
   "outputs": [
    {
     "name": "stdout",
     "output_type": "stream",
     "text": [
      "0.638**2 * ARD(length_scale=0.205) + WhiteKernel(noise_level=0.163)\n"
     ]
    }
   ],
   "source": [
    "kernel = C() * ARD(length_scale=1.0) + WhiteKernel(noise_level=0.1)\n",
    " \n",
    "gp_model = GaussianProcessRegressor(kernel=kernel, random_state=random_state, n_restarts_optimizer=5)\n",
    "gp_model.fit(x_train, y_train)\n",
    "\n",
    "print(gp_model.kernel_)"
   ]
  },
  {
   "cell_type": "markdown",
   "metadata": {},
   "source": [
    "### Testing ARD Kernel"
   ]
  },
  {
   "cell_type": "code",
   "execution_count": 245,
   "metadata": {},
   "outputs": [],
   "source": [
    "def ax_plot_sklearn(ax, y_pred, title):\n",
    "    \n",
    "    # get the condifence intervals\n",
    "    lower, upper = y_pred - y_err, y_pred + y_err\n",
    "    # plot the training data\n",
    "    ax.plot(x_train, y_train, 'r*')\n",
    "    \n",
    "    # plot the predictive mean\n",
    "    ax.plot(x_test, y_pred, 'b')\n",
    "    \n",
    "    # plot the confidence bounds\n",
    "    ax.fill_between(x_test.squeeze(), lower.squeeze(), upper.squeeze(), alpha=0.5, color='orange')\n",
    "    \n",
    "    ax.set_ylim([-3, 3])\n",
    "    ax.legend(['Observed Data', 'Mean', 'Confidence'])\n",
    "    \n",
    "    ax.set_title(title)\n",
    "    \n",
    "    return None"
   ]
  },
  {
   "cell_type": "code",
   "execution_count": 246,
   "metadata": {},
   "outputs": [],
   "source": [
    "y_pred = gp_model.predict(x_test)\n",
    "y_pred, y_err = gp_model.predict(x_test, return_std=True)\n"
   ]
  },
  {
   "cell_type": "code",
   "execution_count": 247,
   "metadata": {},
   "outputs": [
    {
     "data": {
      "image/png": "[encoded data removed]",
      "text/plain": [
       "<Figure size 504x360 with 1 Axes>"
      ]
     },
     "metadata": {},
     "output_type": "display_data"
    }
   ],
   "source": [
    "f, ax = plt.subplots(1, 1, figsize=(7,5))\n",
    "\n",
    "ax_plot_sklearn(ax, y_pred, 'Classical')"
   ]
  },
  {
   "cell_type": "code",
   "execution_count": null,
   "metadata": {},
   "outputs": [],
   "source": []
  }
 ],
 "metadata": {
  "kernelspec": {
   "display_name": "Python 3",
   "language": "python",
   "name": "python3"
  },
  "language_info": {
   "codemirror_mode": {
    "name": "ipython",
    "version": 3
   },
   "file_extension": ".py",
   "mimetype": "text/x-python",
   "name": "python",
   "nbconvert_exporter": "python",
   "pygments_lexer": "ipython3",
   "version": "3.6.6"
  }
 },
 "nbformat": 4,
 "nbformat_minor": 2
}
