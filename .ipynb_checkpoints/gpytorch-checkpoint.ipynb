{
 "cells": [
  {
   "cell_type": "code",
   "execution_count": 1,
   "metadata": {},
   "outputs": [],
   "source": [
    "import math\n",
    "import torch\n",
    "import gpytorch\n",
    "from matplotlib import pyplot as plt\n",
    "import numpy as np\n",
    "\n",
    "%matplotlib inline\n",
    "%load_ext autoreload\n",
    "%autoreload 2"
   ]
  },
  {
   "cell_type": "code",
   "execution_count": 2,
   "metadata": {},
   "outputs": [],
   "source": [
    "from torch import optim\n",
    "from gpytorch.kernels import RBFKernel\n",
    "from gpytorch.means import ConstantMean\n",
    "from gpytorch.priors import SmoothedBoxPrior\n",
    "from gpytorch.likelihoods import GaussianLikelihood\n",
    "from gpytorch.random_variables import GaussianRandomVariable"
   ]
  },
  {
   "cell_type": "markdown",
   "metadata": {},
   "source": [
    "### Training Data"
   ]
  },
  {
   "cell_type": "code",
   "execution_count": 3,
   "metadata": {},
   "outputs": [],
   "source": [
    "# Training data is 11 points in [0,1] inclusive regularly spaced# Traini \n",
    "train_x = torch.linspace(0, 1, 11)\n",
    "# True function is sin(2*pi*x) with Gaussian noise\n",
    "train_y = torch.sin(train_x.data * (2 * math.pi)) + torch.randn(train_x.size()) * 0.2"
   ]
  },
  {
   "cell_type": "code",
   "execution_count": 4,
   "metadata": {},
   "outputs": [
    {
     "data": {
      "image/png": "[encoded data removed]",
      "text/plain": [
       "<Figure size 432x288 with 1 Axes>"
      ]
     },
     "metadata": {},
     "output_type": "display_data"
    }
   ],
   "source": [
    "fig, ax = plt.subplots()\n",
    "\n",
    "ax.scatter(train_x.data.numpy(), train_y.data.numpy(), label='Training Data')\n",
    "\n",
    "ax.set_title('Example Data')\n",
    "plt.show()"
   ]
  },
  {
   "cell_type": "markdown",
   "metadata": {},
   "source": [
    "### Model"
   ]
  },
  {
   "cell_type": "code",
   "execution_count": 5,
   "metadata": {},
   "outputs": [],
   "source": [
    "from gpytorch.kernels import rbf_kernel, white_noise_kernel\n",
    "from gpytorch.kernels import WhiteNoiseKernel"
   ]
  },
  {
   "cell_type": "code",
   "execution_count": 6,
   "metadata": {},
   "outputs": [],
   "source": [
    "class ExactGPModel(gpytorch.models.ExactGP):\n",
    "    def __init__(self, train_x, train_y, likelihood):\n",
    "        \n",
    "        # superclass method\n",
    "        super(ExactGPModel, self).__init__(train_x, train_y, likelihood)\n",
    "        \n",
    "        # initialize the mean function\n",
    "        self.mean_module = ConstantMean()\n",
    "        \n",
    "        # Put a prior on the log lengthscale and noise of the data\n",
    "        length_scale_prior = SmoothedBoxPrior(\n",
    "            math.exp(-5), math.exp(6), sigma=0.1, log_transform=True\n",
    "        )\n",
    "        self.rbf_kernel_module = RBFKernel(log_lengthscale_prior=length_scale_prior)\n",
    "#         self.white_noise_module = WhiteNoiseKernel(variances=torch.ones(11) * 0.1)\n",
    "        self.covar_module = self.rbf_kernel_module #+ self.white_noise_module\n",
    "        \n",
    "    def forward(self, x):\n",
    "        mean_x = self.mean_module(x)\n",
    "        covar_x = self.covar_module(x)\n",
    "        return GaussianRandomVariable(mean_x, covar_x)\n",
    "    \n"
   ]
  },
  {
   "cell_type": "markdown",
   "metadata": {},
   "source": [
    "### Initialization"
   ]
  },
  {
   "cell_type": "code",
   "execution_count": 7,
   "metadata": {},
   "outputs": [
    {
     "data": {
      "text/plain": [
       "ConstantMean()"
      ]
     },
     "execution_count": 7,
     "metadata": {},
     "output_type": "execute_result"
    }
   ],
   "source": [
    "# initialize the likelihood and model\n",
    "likelihood = GaussianLikelihood()\n",
    "gp_model = ExactGPModel(train_x.data, train_y.data, likelihood)\n",
    "\n",
    "# gp_model.rbf_kernel_module.initialize(log_lengthscale=10)\n",
    "gp_model.mean_module.initialize(constant=0)"
   ]
  },
  {
   "cell_type": "markdown",
   "metadata": {},
   "source": [
    "### Training"
   ]
  },
  {
   "cell_type": "code",
   "execution_count": 8,
   "metadata": {},
   "outputs": [],
   "source": [
    "# find the optimal model hyperparameters\n",
    "gp_model.train()\n",
    "likelihood.train()\n",
    "\n",
    "# use the adam optimizer\n",
    "optimizer = torch.optim.Adam([\n",
    "    {'params': gp_model.parameters()}], lr=0.1)"
   ]
  },
  {
   "cell_type": "markdown",
   "metadata": {},
   "source": [
    "#### Loss Function for GP: Marginal Log Likelihood"
   ]
  },
  {
   "cell_type": "code",
   "execution_count": 9,
   "metadata": {},
   "outputs": [],
   "source": [
    "marg_log_likelihood = gpytorch.mlls.ExactMarginalLogLikelihood(likelihood, gp_model)"
   ]
  },
  {
   "cell_type": "markdown",
   "metadata": {},
   "source": [
    "##### Training with Epocs"
   ]
  },
  {
   "cell_type": "code",
   "execution_count": 10,
   "metadata": {},
   "outputs": [
    {
     "name": "stdout",
     "output_type": "stream",
     "text": [
      "[0.1 0.1 0.1 0.1 0.1 0.1 0.1 0.1 0.1 0.1 0.1]\n"
     ]
    }
   ],
   "source": [
    "print(gp_model.white_noise_module.variances.data.numpy())"
   ]
  },
  {
   "cell_type": "code",
   "execution_count": 11,
   "metadata": {},
   "outputs": [
    {
     "name": "stdout",
     "output_type": "stream",
     "text": [
      "CPU times: user 332 ms, sys: 8.65 ms, total: 341 ms\n",
      "Wall time: 347 ms\n"
     ]
    }
   ],
   "source": [
    "%%time \n",
    "\n",
    "training_iter = 50\n",
    "\n",
    "for iteration in range(training_iter):\n",
    "    \n",
    "    # zero gradients from previous iteration\n",
    "    optimizer.zero_grad()\n",
    "    \n",
    "    # output from the model\n",
    "    output = gp_model(train_x)\n",
    "    \n",
    "    # calculate the loss and backprop gradients\n",
    "    loss = -marg_log_likelihood(output, train_y)\n",
    "    loss.backward()\n",
    "    \n",
    "#     # show the progress\n",
    "#     print('Iteration {:d}/{:d} - '.format(iteration+1, training_iter) + \n",
    "#           'Loss {:.3f} '.format(loss.data[0]) +\n",
    "#           'Log Length_scale: {:.3f}, '.format(\n",
    "#               gp_model.rbf_kernel_module.log_lengthscale.data[0, 0].numpy()[0]) + \n",
    "#           'Noise: {:.3f}, '.format(\n",
    "#           gp_model.white_noise_module.variances.data.numpy()[0]) + \n",
    "#           'Log Noise: {:.3f}'.format(\n",
    "#               gp_model.likelihood.log_noise.data[0]))\n",
    "    optimizer.step()"
   ]
  },
  {
   "cell_type": "code",
   "execution_count": 12,
   "metadata": {},
   "outputs": [
    {
     "name": "stdout",
     "output_type": "stream",
     "text": [
      "0.23553653 0.029425092\n"
     ]
    }
   ],
   "source": [
    "length_scale = np.exp(gp_model.rbf_kernel_module.log_lengthscale.data[0, 0].numpy()[0])\n",
    "noise_likelihood = np.exp(gp_model.likelihood.log_noise.data[0].numpy())\n",
    "print(length_scale, noise_likelihood)"
   ]
  },
  {
   "cell_type": "markdown",
   "metadata": {},
   "source": [
    "## Predictions"
   ]
  },
  {
   "cell_type": "code",
   "execution_count": 13,
   "metadata": {},
   "outputs": [],
   "source": [
    "# Put the model in evaluation model\n",
    "gp_model.eval();\n",
    "likelihood.eval();\n",
    "\n",
    "# Create some test points\n",
    "test_x = torch.linspace(0, 1, 51)\n",
    "\n",
    "# make predictions\n",
    "with gpytorch.fast_pred_var():\n",
    "    observed_pred = likelihood(gp_model(test_x))\n"
   ]
  },
  {
   "cell_type": "code",
   "execution_count": 14,
   "metadata": {},
   "outputs": [],
   "source": [
    "def ax_plot(ax, rand_var, title):\n",
    "    \n",
    "    # get the condifence intervals\n",
    "    lower, upper = rand_var.confidence_region()\n",
    "    \n",
    "    # plot the training data\n",
    "    ax.plot(train_x.data.numpy(), train_y.data.numpy(), 'r*')\n",
    "    \n",
    "    # plot the predictive mean\n",
    "    ax.plot(test_x.data.numpy(), rand_var.mean().data.numpy(), 'b')\n",
    "    \n",
    "    # plot the confidence bounds\n",
    "    ax.fill_between(test_x.data.numpy(), lower.data.numpy(), \n",
    "                    upper.data.numpy(), alpha=0.5, color='orange')\n",
    "    \n",
    "    ax.set_ylim([-3, 3])\n",
    "    ax.legend(['Observed Data', 'Mean', 'Confidence'])\n",
    "    \n",
    "    ax.set_title(title)\n",
    "    \n",
    "    return None"
   ]
  },
  {
   "cell_type": "code",
   "execution_count": 15,
   "metadata": {},
   "outputs": [
    {
     "data": {
      "image/png": "[encoded data removed]",
      "text/plain": [
       "<Figure size 504x360 with 1 Axes>"
      ]
     },
     "metadata": {},
     "output_type": "display_data"
    }
   ],
   "source": [
    "f, ax = plt.subplots(1, 1, figsize=(7,5))\n",
    "\n",
    "ax_plot(ax, observed_pred, 'Observed Values (Likelihood)')"
   ]
  },
  {
   "cell_type": "code",
   "execution_count": 16,
   "metadata": {},
   "outputs": [],
   "source": [
    "from sklearn.gaussian_process import GaussianProcessRegressor\n",
    "from sklearn.gaussian_process.kernels import RBF, WhiteKernel"
   ]
  },
  {
   "cell_type": "code",
   "execution_count": 19,
   "metadata": {},
   "outputs": [
    {
     "name": "stdout",
     "output_type": "stream",
     "text": [
      "(11, 1) (11, 1)\n"
     ]
    }
   ],
   "source": [
    "# Training data is 11 points in [0,1] inclusive regularly spaced# Traini \n",
    "x_train = np.linspace(0, 1, 11).reshape(-1, 1)\n",
    "# True function is sin(2*pi*x) with Gaussian noise\n",
    "y_train = np.sin(x_train * (2 * np.pi)) + np.random.randn(x_train.shape[0], 1) * 0.2\n",
    "\n",
    "print(x_train.shape, y_train.shape)\n",
    "\n",
    "kernels = RBF(length_scale=length_scale) + WhiteKernel(noise_level=noise_likelihood)\n",
    "sgp_model = GaussianProcessRegressor(kernel=kernels)\n",
    "\n",
    "sgp_model.fit(x_train, y_train);\n"
   ]
  },
  {
   "cell_type": "code",
   "execution_count": 20,
   "metadata": {},
   "outputs": [],
   "source": [
    "x_test = np.linspace(0, 1, 51).reshape(-1, 1)\n",
    "\n",
    "y_pred, y_err = sgp_model.predict(x_test, return_std=True)\n",
    "y_pred = y_pred.reshape(-1, 1)\n",
    "y_err = y_err.reshape(-1, 1)"
   ]
  },
  {
   "cell_type": "code",
   "execution_count": 21,
   "metadata": {},
   "outputs": [],
   "source": [
    "def ax_plot_sklearn(ax, y_pred, title):\n",
    "    \n",
    "    # get the condifence intervals\n",
    "    lower, upper = y_pred - 2*y_err, y_pred + 2*y_err\n",
    "    # plot the training data\n",
    "    ax.plot(x_train, y_train, 'r*')\n",
    "    \n",
    "    # plot the predictive mean\n",
    "    ax.plot(x_test, y_pred, 'b')\n",
    "    \n",
    "    # plot the confidence bounds\n",
    "    ax.fill_between(x_test.squeeze(), lower.squeeze(), upper.squeeze(), alpha=0.5, color='orange')\n",
    "    \n",
    "    ax.set_ylim([-3, 3])\n",
    "    ax.legend(['Observed Data', 'Mean', 'Confidence'])\n",
    "    \n",
    "    ax.set_title(title)\n",
    "    \n",
    "    return None"
   ]
  },
  {
   "cell_type": "code",
   "execution_count": 22,
   "metadata": {},
   "outputs": [
    {
     "data": {
      "image/png": "[encoded data removed]",
      "text/plain": [
       "<Figure size 504x360 with 1 Axes>"
      ]
     },
     "metadata": {},
     "output_type": "display_data"
    }
   ],
   "source": [
    "f, ax = plt.subplots(1, 1, figsize=(7,5))\n",
    "\n",
    "ax_plot_sklearn(ax, y_pred, 'Classical')"
   ]
  },
  {
   "cell_type": "code",
   "execution_count": null,
   "metadata": {},
   "outputs": [],
   "source": []
  }
 ],
 "metadata": {
  "kernelspec": {
   "display_name": "Python 3",
   "language": "python",
   "name": "python3"
  },
  "language_info": {
   "codemirror_mode": {
    "name": "ipython",
    "version": 3
   },
   "file_extension": ".py",
   "mimetype": "text/x-python",
   "name": "python",
   "nbconvert_exporter": "python",
   "pygments_lexer": "ipython3",
   "version": "3.6.6"
  }
 },
 "nbformat": 4,
 "nbformat_minor": 2
}
